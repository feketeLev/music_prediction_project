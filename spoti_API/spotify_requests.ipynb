{
 "cells": [
  {
   "cell_type": "code",
   "execution_count": 22,
   "metadata": {},
   "outputs": [
    {
     "name": "stdout",
     "output_type": "stream",
     "text": [
      "51\n"
     ]
    }
   ],
   "source": [
    "from dotenv import load_dotenv\n",
    "import os\n",
    "import base64\n",
    "from requests import post\n",
    "from requests import get\n",
    "import json\n",
    "load_dotenv()\n",
    "\n",
    "client_id = os.getenv(\"CLIENT_ID\")\n",
    "client_secret = os.getenv(\"CLIENT_SECRET\")\n",
    "\n",
    "def get_token():\n",
    "    auth_string = client_id + \":\" + client_secret\n",
    "    auth_bytes = auth_string.encode(\"utf-8\")\n",
    "    auth_base64 = str(base64.b64encode(auth_bytes), \"utf-8\")\n",
    "\n",
    "    url = \"https://accounts.spotify.com/api/token\"\n",
    "    headers =  {\n",
    "            \"Authorization\": \"Basic \" + auth_base64,\n",
    "            \"Content-Type\": \"application/x-www-form-urlencoded\"\n",
    "    }\n",
    "    data = {\"grant_type\":\"client_credentials\"}\n",
    "    result = post(url, headers=headers, data = data)\n",
    "    json_result = json.loads(result.content)\n",
    "    token = json_result[\"access_token\"]\n",
    "    return token\n",
    "\n",
    "def get_auth_header(token):\n",
    "    return {\"Authorization\": \"Bearer \" + token}\n",
    "def get_track(token, ID):\n",
    "    url = \"https://api.spotify.com/v1/tracks/\"\n",
    "    headers = get_auth_header(token)\n",
    "    query = url + ID\n",
    "    result = get(query, headers = headers)\n",
    "    json_result = json.loads(result.content)\n",
    "    return(json_result)\n",
    "get_token()\n",
    "\n",
    "\n",
    "\n",
    "\n"
   ]
  },
  {
   "cell_type": "code",
   "execution_count": 48,
   "metadata": {},
   "outputs": [
    {
     "name": "stdout",
     "output_type": "stream",
     "text": [
      "{'album': {'album_type': 'album', 'artists': [{'external_urls': {'spotify': 'https://open.spotify.com/artist/6EIriUxo7vznEgJtTDlXpq'}, 'href': 'https://api.spotify.com/v1/artists/6EIriUxo7vznEgJtTDlXpq', 'id': '6EIriUxo7vznEgJtTDlXpq', 'name': 'Azahriah', 'type': 'artist', 'uri': 'spotify:artist:6EIriUxo7vznEgJtTDlXpq'}], 'available_markets': ['AR', 'AU', 'AT', 'BE', 'BO', 'BR', 'BG', 'CA', 'CL', 'CO', 'CR', 'CY', 'CZ', 'DK', 'DO', 'DE', 'EC', 'EE', 'SV', 'FI', 'FR', 'GR', 'GT', 'HN', 'HK', 'HU', 'IS', 'IE', 'IT', 'LV', 'LT', 'LU', 'MY', 'MT', 'MX', 'NL', 'NZ', 'NI', 'NO', 'PA', 'PY', 'PE', 'PH', 'PL', 'PT', 'SG', 'SK', 'ES', 'SE', 'CH', 'TW', 'TR', 'UY', 'US', 'GB', 'AD', 'LI', 'MC', 'ID', 'JP', 'TH', 'VN', 'RO', 'IL', 'ZA', 'SA', 'AE', 'BH', 'QA', 'OM', 'KW', 'EG', 'MA', 'DZ', 'TN', 'LB', 'JO', 'PS', 'IN', 'BY', 'KZ', 'MD', 'UA', 'AL', 'BA', 'HR', 'ME', 'MK', 'RS', 'SI', 'KR', 'BD', 'PK', 'LK', 'GH', 'KE', 'NG', 'TZ', 'UG', 'AG', 'AM', 'BS', 'BB', 'BZ', 'BT', 'BW', 'BF', 'CV', 'CW', 'DM', 'FJ', 'GM', 'GE', 'GD', 'GW', 'GY', 'HT', 'JM', 'KI', 'LS', 'LR', 'MW', 'MV', 'ML', 'MH', 'FM', 'NA', 'NR', 'NE', 'PW', 'PG', 'PR', 'WS', 'SM', 'ST', 'SN', 'SC', 'SL', 'SB', 'KN', 'LC', 'VC', 'SR', 'TL', 'TO', 'TT', 'TV', 'VU', 'AZ', 'BN', 'BI', 'KH', 'CM', 'TD', 'KM', 'GQ', 'SZ', 'GA', 'GN', 'KG', 'LA', 'MO', 'MR', 'MN', 'NP', 'RW', 'TG', 'UZ', 'ZW', 'BJ', 'MG', 'MU', 'MZ', 'AO', 'CI', 'DJ', 'ZM', 'CD', 'CG', 'IQ', 'LY', 'TJ', 'VE', 'ET', 'XK'], 'external_urls': {'spotify': 'https://open.spotify.com/album/5u9MCFoebxeT8zyJk7ubYw'}, 'href': 'https://api.spotify.com/v1/albums/5u9MCFoebxeT8zyJk7ubYw', 'id': '5u9MCFoebxeT8zyJk7ubYw', 'images': [{'height': 640, 'url': 'https://i.scdn.co/image/ab67616d0000b273c5f9dfd80d2a80c9b568b8ee', 'width': 640}, {'height': 300, 'url': 'https://i.scdn.co/image/ab67616d00001e02c5f9dfd80d2a80c9b568b8ee', 'width': 300}, {'height': 64, 'url': 'https://i.scdn.co/image/ab67616d00004851c5f9dfd80d2a80c9b568b8ee', 'width': 64}], 'name': 'skatulya I', 'release_date': '2024-04-18', 'release_date_precision': 'day', 'total_tracks': 8, 'type': 'album', 'uri': 'spotify:album:5u9MCFoebxeT8zyJk7ubYw'}, 'artists': [{'external_urls': {'spotify': 'https://open.spotify.com/artist/6EIriUxo7vznEgJtTDlXpq'}, 'href': 'https://api.spotify.com/v1/artists/6EIriUxo7vznEgJtTDlXpq', 'id': '6EIriUxo7vznEgJtTDlXpq', 'name': 'Azahriah', 'type': 'artist', 'uri': 'spotify:artist:6EIriUxo7vznEgJtTDlXpq'}], 'available_markets': ['AR', 'AU', 'AT', 'BE', 'BO', 'BR', 'BG', 'CA', 'CL', 'CO', 'CR', 'CY', 'CZ', 'DK', 'DO', 'DE', 'EC', 'EE', 'SV', 'FI', 'FR', 'GR', 'GT', 'HN', 'HK', 'HU', 'IS', 'IE', 'IT', 'LV', 'LT', 'LU', 'MY', 'MT', 'MX', 'NL', 'NZ', 'NI', 'NO', 'PA', 'PY', 'PE', 'PH', 'PL', 'PT', 'SG', 'SK', 'ES', 'SE', 'CH', 'TW', 'TR', 'UY', 'US', 'GB', 'AD', 'LI', 'MC', 'ID', 'JP', 'TH', 'VN', 'RO', 'IL', 'ZA', 'SA', 'AE', 'BH', 'QA', 'OM', 'KW', 'EG', 'MA', 'DZ', 'TN', 'LB', 'JO', 'PS', 'IN', 'BY', 'KZ', 'MD', 'UA', 'AL', 'BA', 'HR', 'ME', 'MK', 'RS', 'SI', 'KR', 'BD', 'PK', 'LK', 'GH', 'KE', 'NG', 'TZ', 'UG', 'AG', 'AM', 'BS', 'BB', 'BZ', 'BT', 'BW', 'BF', 'CV', 'CW', 'DM', 'FJ', 'GM', 'GE', 'GD', 'GW', 'GY', 'HT', 'JM', 'KI', 'LS', 'LR', 'MW', 'MV', 'ML', 'MH', 'FM', 'NA', 'NR', 'NE', 'PW', 'PG', 'PR', 'WS', 'SM', 'ST', 'SN', 'SC', 'SL', 'SB', 'KN', 'LC', 'VC', 'SR', 'TL', 'TO', 'TT', 'TV', 'VU', 'AZ', 'BN', 'BI', 'KH', 'CM', 'TD', 'KM', 'GQ', 'SZ', 'GA', 'GN', 'KG', 'LA', 'MO', 'MR', 'MN', 'NP', 'RW', 'TG', 'UZ', 'ZW', 'BJ', 'MG', 'MU', 'MZ', 'AO', 'CI', 'DJ', 'ZM', 'CD', 'CG', 'IQ', 'LY', 'TJ', 'VE', 'ET', 'XK'], 'disc_number': 1, 'duration_ms': 244660, 'explicit': False, 'external_ids': {'isrc': 'HUAMV2100259'}, 'external_urls': {'spotify': 'https://open.spotify.com/track/0fBK1og2qGc1vSdEln0sFs'}, 'href': 'https://api.spotify.com/v1/tracks/0fBK1og2qGc1vSdEln0sFs', 'id': '0fBK1og2qGc1vSdEln0sFs', 'is_local': False, 'name': 'mariana.árok', 'popularity': 53, 'preview_url': 'https://p.scdn.co/mp3-preview/82bda19405f2ea7cdf3b893cc79f30b1d131bb44?cid=cde1f6bbac9741f4a6103fc0b1c4bf8f', 'track_number': 4, 'type': 'track', 'uri': 'spotify:track:0fBK1og2qGc1vSdEln0sFs'}\n",
      "53\n"
     ]
    }
   ],
   "source": [
    "test_result = get_track(get_token(),\"0fBK1og2qGc1vSdEln0sFs\" )\n",
    "print(test_result)\n",
    "print(test_result[\"popularity\"])"
   ]
  }
 ],
 "metadata": {
  "kernelspec": {
   "display_name": "qdac_test",
   "language": "python",
   "name": "python3"
  },
  "language_info": {
   "codemirror_mode": {
    "name": "ipython",
    "version": 3
   },
   "file_extension": ".py",
   "mimetype": "text/x-python",
   "name": "python",
   "nbconvert_exporter": "python",
   "pygments_lexer": "ipython3",
   "version": "3.12.1"
  }
 },
 "nbformat": 4,
 "nbformat_minor": 2
}
